{
 "cells": [
  {
   "cell_type": "code",
   "execution_count": 1,
   "metadata": {},
   "outputs": [],
   "source": [
    "import os\n",
    "\n",
    "os.sys.path.append('/home/vlad/dev/stepic-cv/venv/lib/python3.8/site-packages/')"
   ]
  },
  {
   "cell_type": "code",
   "execution_count": 2,
   "metadata": {},
   "outputs": [],
   "source": [
    "import os\n",
    "import shutil\n",
    "\n",
    "import matplotlib.pyplot as plt\n",
    "from torchvision import transforms\n",
    "from torchvision.datasets import DatasetFolder\n",
    "import torchvision.models as models\n",
    "from torch.utils.data import Dataset, DataLoader\n",
    "import torch.nn as nn\n",
    "import torch\n",
    "\n",
    "import cv2\n"
   ]
  },
  {
   "cell_type": "code",
   "execution_count": 3,
   "metadata": {},
   "outputs": [],
   "source": [
    "os.chdir('../')"
   ]
  },
  {
   "cell_type": "code",
   "execution_count": 4,
   "metadata": {},
   "outputs": [],
   "source": [
    "train_plates_dir = './plates/train'\n",
    "test_plates_dir = './plates/test'\n",
    "working_train_folder = 'working/train'\n",
    "working_val_folder = 'working/val'\n",
    "plates_dir = '/plates'"
   ]
  },
  {
   "cell_type": "code",
   "execution_count": 5,
   "metadata": {},
   "outputs": [],
   "source": [
    "classes = ['cleaned', 'dirty']\n",
    "cls_vocab = {\n",
    "    \"cleaned\": 0.0,\n",
    "    \"dirty\": 1.0\n",
    "}\n",
    "\n",
    "def create_working_dirs():\n",
    "    for cls in classes:\n",
    "        os.makedirs(f'{working_train_folder}/{cls}', exist_ok=True)\n",
    "        os.makedirs(f'{working_val_folder}/{cls}', exist_ok=True)\n",
    "\n",
    "def remove_working_dirs():\n",
    "    shutil.rmtree(working_train_folder, ignore_errors=True)\n",
    "    shutil.rmtree(working_val_folder, ignore_errors=True)\n",
    "\n",
    "def setup_images_to_dataset_structure(train_classes, train_imgs, val_classes, val_imgs):\n",
    "    remove_working_dirs()\n",
    "    create_working_dirs()\n",
    "    for cls, img_name in zip(train_classes, train_imgs):\n",
    "        img_path = os.path.join(train_plates_dir, cls, img_name)\n",
    "        dest_path = os.path.join(working_train_folder, cls, img_name)\n",
    "        shutil.copyfile(img_path, dest_path)\n",
    "    for cls, img_name in zip(val_classes, val_imgs):\n",
    "        img_path = os.path.join(train_plates_dir, cls, img_name)\n",
    "        dest_path = os.path.join(working_val_folder, cls, img_name)\n",
    "        shutil.copyfile(img_path, dest_path)"
   ]
  },
  {
   "cell_type": "code",
   "execution_count": 6,
   "metadata": {},
   "outputs": [],
   "source": [
    "import numpy as np\n",
    "from sklearn.model_selection import StratifiedKFold\n",
    "\n",
    "dirty_paths = os.listdir(f'{train_plates_dir}/dirty')\n",
    "cleaned_paths = os.listdir(f'{train_plates_dir}/cleaned')\n",
    "train_plates_paths = np.array(dirty_paths + cleaned_paths)\n",
    "train_plates_classes = np.array(['dirty',]*len(dirty_paths) + ['cleaned',]*len(cleaned_paths))\n",
    "\n",
    "# Stratified KFolds for the data\n",
    "skf = StratifiedKFold(n_splits=5, shuffle=True, random_state=42)"
   ]
  },
  {
   "cell_type": "code",
   "execution_count": 7,
   "metadata": {},
   "outputs": [],
   "source": [
    "class PlatesDataset(Dataset):\n",
    "    def __init__(self, rootpath, transform):\n",
    "        classes = os.listdir(rootpath)\n",
    "        self.images = []\n",
    "        self.transform = transform\n",
    "\n",
    "        for cls in classes:\n",
    "            cls_img_paths = os.listdir(f'{rootpath}/{cls}')\n",
    "            cls_img_paths = [os.path.join(rootpath, cls, img_path) for img_path in cls_img_paths]\n",
    "            self.images += zip(cls_img_paths, (cls_vocab[cls], )*len(cls_img_paths))\n",
    "\n",
    "    def __len__(self):\n",
    "        return len(self.images)\n",
    "    \n",
    "    def __getitem__(self, idx):\n",
    "        img_path, cls = self.images[idx]\n",
    "        image = cv2.imread(img_path)\n",
    "        image = cv2.cvtColor(image, cv2.COLOR_BGR2RGB)\n",
    "        \n",
    "        if self.transform:\n",
    "            image = self.transform(image=image)[\"image\"]\n",
    "        \n",
    "        return image, cls\n",
    "\n",
    "def get_dataset(root_path: str, transformers=None) -> DatasetFolder:\n",
    "    return PlatesDataset(root_path, transform=transformers)\n"
   ]
  },
  {
   "cell_type": "code",
   "execution_count": 8,
   "metadata": {},
   "outputs": [],
   "source": [
    "    import albumentations as A\n",
    "    from albumentations.pytorch import ToTensorV2\n",
    "\n",
    "    resize_dict = {\n",
    "        \"mean\": (0.485, 0.456, 0.406),\n",
    "        \"std\": (0.229, 0.224, 0.225)\n",
    "    }\n",
    "\n",
    "    train_transorms = A.Compose([\n",
    "        A.RandomResizedCrop(224, 224),\n",
    "        A.RandomRotate90(),\n",
    "        A.Normalize(**resize_dict),\n",
    "        ToTensorV2()\n",
    "    ])\n",
    "\n",
    "    test_transforms = A.Compose([\n",
    "        A.Resize(224, 224),\n",
    "        A.Normalize(**resize_dict),\n",
    "        ToTensorV2()\n",
    "    ])"
   ]
  },
  {
   "cell_type": "code",
   "execution_count": 9,
   "metadata": {},
   "outputs": [],
   "source": [
    "params = {\n",
    "    \"model\": \"resnet18\",\n",
    "    \"layer_to_substitude\": \"fc\",\n",
    "    \"device\": \"cuda\",\n",
    "    \"lr\": 0.001,\n",
    "    \"batch_size\": 8,\n",
    "    \"epochs\": 50\n",
    "}\n"
   ]
  },
  {
   "cell_type": "code",
   "execution_count": 10,
   "metadata": {},
   "outputs": [],
   "source": [
    "from enum import Enum\n",
    "\n",
    "class TrainPhase(Enum):\n",
    "    train = 'train'\n",
    "    validation = 'val'"
   ]
  },
  {
   "cell_type": "code",
   "execution_count": 11,
   "metadata": {},
   "outputs": [],
   "source": [
    "class MetricsMonitor:\n",
    "    def __init__(self, title):\n",
    "        self.epoch_losses = []\n",
    "        self.epoch_metrics = []\n",
    "        \n",
    "        self.batch_losses = []\n",
    "        self.batch_metrics = []\n",
    "        \n",
    "        self.title = title\n",
    "\n",
    "    def add_loss(self, value):\n",
    "        self.batch_losses.append(value)\n",
    "\n",
    "    def add_metric(self, value):\n",
    "        self.batch_metrics.append(value)\n",
    "    \n",
    "    def loss_reduction(self):\n",
    "        self.epoch_losses.append(np.mean(self.batch_losses))\n",
    "        self.batch_losses = []\n",
    "\n",
    "    def metric_reduction(self):\n",
    "        self.epoch_metrics.append(np.mean(self.batch_metrics))\n",
    "        self.batch_metrics = []\n",
    "    \n",
    "    def plot(self):\n",
    "        fig, axes = plt.subplots(nrows=1, ncols=2)\n",
    "        \n",
    "        loss_ax, metric_ax = axes\n",
    "        loss_ax.plot(self.epoch_losses)\n",
    "        loss_ax.set_title('Loss')\n",
    "        \n",
    "        metric_ax.plot(self.epoch_metrics)\n",
    "        metric_ax.set_title('Metric')\n",
    "\n",
    "class MetricsMonitorCV:\n",
    "    def __init__(self):\n",
    "        self[TrainPhase.train] = []\n",
    "        self[TrainPhase.validation] = []\n",
    "    \n",
    "    def add_monitor(phase: TrainPhase, monitor: MetricsMonitor):\n",
    "        self[phase].append(monitor)"
   ]
  },
  {
   "cell_type": "code",
   "execution_count": 13,
   "metadata": {
    "scrolled": false
   },
   "outputs": [
    {
     "data": {
      "application/vnd.jupyter.widget-view+json": {
       "model_id": "471bc726f2de4122bea5a2099e3d3b20",
       "version_major": 2,
       "version_minor": 0
      },
      "text/plain": [
       "HBox(children=(FloatProgress(value=0.0, max=50.0), HTML(value='')))"
      ]
     },
     "metadata": {},
     "output_type": "display_data"
    },
    {
     "name": "stdout",
     "output_type": "stream",
     "text": [
      "\n"
     ]
    }
   ],
   "source": [
    "from torch.optim import Optimizer\n",
    "from torch.nn import Module\n",
    "from tqdm.notebook import tqdm\n",
    "\n",
    "def freeze(model):\n",
    "    for param in model.parameters():\n",
    "        param.requires_grad = False\n",
    "        \n",
    "\n",
    "def train(model: torch.nn.Module,\n",
    "          train_dataloader: torch.utils.data.DataLoader,\n",
    "          val_dataloader: torch.utils.data.DataLoader,\n",
    "          train_mm: MetricsMonitor,\n",
    "          val_mm: MetricsMonitor,\n",
    "          params):\n",
    "    device = torch.device(params['device'])\n",
    "    criterion = nn.CrossEntropyLoss()\n",
    "    \n",
    "\n",
    "    # freeze all layers\n",
    "    freeze(model)\n",
    "    # substitude the layer to be trained\n",
    "    layer_to_substitude = getattr(model, params[\"layer_to_substitude\"])\n",
    "    setattr(model, params[\"layer_to_substitude\"], torch.nn.Linear(layer_to_substitude.in_features, 2))\n",
    "    model = model.to(device)\n",
    "    \n",
    "    optimizer = torch.optim.Adam(model.parameters(), lr=params[\"lr\"])\n",
    "    \n",
    "    for epoch in tqdm(range(params[\"epochs\"])):\n",
    "        for phase in list(TrainPhase):\n",
    "            if phase == TrainPhase.train:\n",
    "                dataloader = train_dataloader\n",
    "                monitor = train_monitor\n",
    "                model.train()\n",
    "            elif phase == TrainPhase.validation:\n",
    "                dataloader = val_dataloader\n",
    "                monitor = val_monitor\n",
    "                model.eval()\n",
    "\n",
    "            for batch in dataloader:\n",
    "                with torch.set_grad_enabled(phase == TrainPhase.train):\n",
    "                    optimizer.zero_grad()\n",
    "\n",
    "                    inputs, labels = batch\n",
    "                    inputs = inputs.to(device)\n",
    "                    # cross entropy requires that labels should be as type of tensor.Long\n",
    "                    labels = labels.long().to(device)\n",
    "\n",
    "                    outputs = model(inputs)\n",
    "                    _, predictions = torch.max(outputs, 1)\n",
    "                    loss = criterion(outputs, labels)\n",
    "                    accuracy = (labels == predictions).float().mean()\n",
    "                    monitor.add_loss(loss.item())\n",
    "                    monitor.add_metric(accuracy.item())\n",
    "\n",
    "                    if phase == TrainPhase.train:\n",
    "                        loss.backward()\n",
    "                        optimizer.step()\n",
    "            \n",
    "            monitor.loss_reduction()\n",
    "            monitor.metric_reduction()\n",
    "\n",
    "train_index, val_index = next(skf.split(train_plates_paths, train_plates_classes))\n",
    "# for train_index, val_index in skf.split(train_plates_paths, train_plates_classes):\n",
    "train_paths, val_paths = train_plates_paths[train_index], train_plates_paths[val_index]\n",
    "train_classes, val_classes = train_plates_classes[train_index], train_plates_classes[val_index]\n",
    "setup_images_to_dataset_structure(train_classes, train_paths, val_classes, val_paths)\n",
    "\n",
    "model = getattr(models, params[\"model\"])(pretrained=True)\n",
    "\n",
    "train_dataset = get_dataset(working_train_folder, train_transorms)\n",
    "train_dataloader = DataLoader(train_dataset, batch_size=params[\"batch_size\"], shuffle=True)\n",
    "\n",
    "val_dataset = get_dataset(working_val_folder, test_transforms)\n",
    "val_dataloader = DataLoader(val_dataset, batch_size=params[\"batch_size\"])\n",
    "\n",
    "train_monitor = MetricsMonitor('train')\n",
    "val_monitor = MetricsMonitor('validation')\n",
    "\n",
    "m = train(model, train_dataloader, val_dataloader, train_monitor, val_monitor, params)"
   ]
  },
  {
   "cell_type": "code",
   "execution_count": 14,
   "metadata": {},
   "outputs": [
    {
     "data": {
      "image/png": "[encoded data removed]",
      "text/plain": [
       "<Figure size 432x288 with 2 Axes>"
      ]
     },
     "metadata": {
      "needs_background": "light"
     },
     "output_type": "display_data"
    },
    {
     "data": {
      "image/png": "[encoded data removed]",
      "text/plain": [
       "<Figure size 432x288 with 2 Axes>"
      ]
     },
     "metadata": {
      "needs_background": "light"
     },
     "output_type": "display_data"
    }
   ],
   "source": [
    "val_monitor.plot()\n",
    "train_monitor.plot()"
   ]
  }
 ],
 "metadata": {
  "kernelspec": {
   "display_name": "Python 3.8.2 64-bit",
   "language": "python",
   "name": "python38264bitda67ccf0444f463894f42710fe1c3b44"
  },
  "language_info": {
   "codemirror_mode": {
    "name": "ipython",
    "version": 3
   },
   "file_extension": ".py",
   "mimetype": "text/x-python",
   "name": "python",
   "nbconvert_exporter": "python",
   "pygments_lexer": "ipython3",
   "version": "3.8.6"
  }
 },
 "nbformat": 4,
 "nbformat_minor": 4
}
